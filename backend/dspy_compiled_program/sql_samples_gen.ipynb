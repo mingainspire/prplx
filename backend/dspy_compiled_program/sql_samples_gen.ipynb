{
 "cells": [
  {
   "cell_type": "code",
   "execution_count": 1,
   "metadata": {},
   "outputs": [
    {
     "name": "stderr",
     "output_type": "stream",
     "text": [
      "/Users/ianz/miniconda3/envs/ad/lib/python3.11/site-packages/tqdm/auto.py:21: TqdmWarning: IProgress not found. Please update jupyter and ipywidgets. See https://ipywidgets.readthedocs.io/en/stable/user_install.html\n",
      "  from .autonotebook import tqdm as notebook_tqdm\n"
     ]
    }
   ],
   "source": [
    "import dspy\n",
    "import os\n",
    "from dotenv import load_dotenv\n",
    "\n",
    "load_dotenv()\n",
    "\n",
    "turbo = dspy.OpenAI(model='gpt-4o', api_key=os.getenv(\"OPENAI_API_KEY\"), max_tokens=1000)\n",
    "dspy.settings.configure(lm=turbo)"
   ]
  },
  {
   "cell_type": "code",
   "execution_count": 2,
   "metadata": {},
   "outputs": [],
   "source": [
    "from pydantic import BaseModel, Field\n",
    "from typing import List\n",
    "\n",
    "class Step(BaseModel):\n",
    "    explanation: str\n",
    "    sql: str\n",
    "\n",
    "class SQLSample(BaseModel):\n",
    "    no_reasonable_example: bool = Field(description=\"Whether it is not possible to provide a reasonable example\")\n",
    "    steps: List[Step] = Field(description=\"List of steps to execute the SQL query in TiDB Serverless\")\n",
    "\n",
    "class SampleGen(dspy.Signature):\n",
    "    \"\"\"You are a technical assistant at TiDB, dedicated to providing users with precise and actionable guidance. \n",
    "    Your mission is to ensure that users receive not only accurate answers but also valuable learning opportunities through practical, step-by-step examples. \n",
    "    To achieve this, adhere to the following instructions:\n",
    "\n",
    "    1. Understand the User's question and answer: Carefully review the user's question and answer provided. Ensure you fully grasp the technical context, the core issue, and any relevant background information.\n",
    "    2. Determine the Feasibility of Providing a Complete Example:\n",
    "        - Evaluate whether a step-by-step example can be provided to help the user better understand the topic at hand. Consider the technical details involved, \n",
    "        and ensure that any example you provide is fully executable without requiring additional adjustments.\n",
    "        - Ensure the example is comprehensive, and is designed to be directly usable in TiDB Serverless.\n",
    "    3. Generate and Present a Complete Example:\n",
    "        - Create a clear, detailed SQLs guide that the user can follow step-by-step. This example should include all necessary SQL commands and should be self-contained without requiring additional adjustments.\n",
    "        - **Each step should include a single SQL Query (only SQL are allowed)**. he example should be self-contained, requiring no additional adjustments or assumptions from the user. \n",
    "        Avoid combining multiple SQL commands within a single step to maintain clarity and prevent confusion.\n",
    "\n",
    "    By following these instructions, you will help the user not only resolve their current query but also deepen their understanding of the topic through practical application.\n",
    "    \"\"\"\n",
    "\n",
    "    QA_content: str = dspy.InputField(\n",
    "        desc=\"The user's query that requires a step-by-step example to be generated.\"\n",
    "    )\n",
    "    sample : SQLSample = dspy.OutputField(\n",
    "        desc=\"Step-by-step example to execute the SQL query in TiDB Serverless.\"\n",
    "    )\n"
   ]
  },
  {
   "cell_type": "code",
   "execution_count": 3,
   "metadata": {},
   "outputs": [],
   "source": [
    "from dspy.functional import TypedPredictor\n",
    "\n",
    "class SQLGenModule(dspy.Module):\n",
    "    def __init__(self, dspy_lm: dspy.LM):\n",
    "        super().__init__()\n",
    "        self.dspy_lm = dspy_lm\n",
    "        self.prog = TypedPredictor(SampleGen)\n",
    "\n",
    "    def forward(self, QA_content: str):\n",
    "        with dspy.settings.context(lm=self.dspy_lm):\n",
    "            return self.prog(QA_content=QA_content)"
   ]
  },
  {
   "cell_type": "code",
   "execution_count": 4,
   "metadata": {},
   "outputs": [
    {
     "data": {
      "text/html": [
       "<div>\n",
       "<style scoped>\n",
       "    .dataframe tbody tr th:only-of-type {\n",
       "        vertical-align: middle;\n",
       "    }\n",
       "\n",
       "    .dataframe tbody tr th {\n",
       "        vertical-align: top;\n",
       "    }\n",
       "\n",
       "    .dataframe thead th {\n",
       "        text-align: right;\n",
       "    }\n",
       "</style>\n",
       "<table border=\"1\" class=\"dataframe\">\n",
       "  <thead>\n",
       "    <tr style=\"text-align: right;\">\n",
       "      <th></th>\n",
       "      <th>QA_content</th>\n",
       "      <th>no_reasonable_example</th>\n",
       "      <th>steps</th>\n",
       "    </tr>\n",
       "  </thead>\n",
       "  <tbody>\n",
       "    <tr>\n",
       "      <th>0</th>\n",
       "      <td>User question: Does TiDB support FOREIGN KEY?\\...</td>\n",
       "      <td>False</td>\n",
       "      <td>[{\"explanation\": \"Create a 'users' table which...</td>\n",
       "    </tr>\n",
       "    <tr>\n",
       "      <th>1</th>\n",
       "      <td>User question: How to implement rolling upgrad...</td>\n",
       "      <td>True</td>\n",
       "      <td>[]</td>\n",
       "    </tr>\n",
       "  </tbody>\n",
       "</table>\n",
       "</div>"
      ],
      "text/plain": [
       "                                          QA_content  no_reasonable_example  \\\n",
       "0  User question: Does TiDB support FOREIGN KEY?\\...                  False   \n",
       "1  User question: How to implement rolling upgrad...                   True   \n",
       "\n",
       "                                               steps  \n",
       "0  [{\"explanation\": \"Create a 'users' table which...  \n",
       "1                                                 []  "
      ]
     },
     "execution_count": 4,
     "metadata": {},
     "output_type": "execute_result"
    }
   ],
   "source": [
    "import pandas as pd\n",
    "samples = pd.read_csv(\"sql_sample.csv\")\n",
    "samples"
   ]
  },
  {
   "cell_type": "code",
   "execution_count": 5,
   "metadata": {},
   "outputs": [
    {
     "data": {
      "text/plain": [
       "[Example({'QA_content': 'User question: Does TiDB support FOREIGN KEY?\\nAnswer: Yes, TiDB supports FOREIGN KEY constraints starting from version 6.6.0 as an experimental feature. However, there are key considerations:\\n    1.    Experimental Status: The feature is experimental and may change or be removed in future releases.\\n    2.    Performance Impact: Foreign keys can lead to performance issues, especially with large datasets.\\n    3.    Implementation: FOREIGN KEY constraints can be created, modified, and viewed using standard SQL commands (e.g., CREATE TABLE, ALTER TABLE).\\n    4.    Upgrade Considerations: If upgrading from a version prior to 6.6.0, foreign keys will not be automatically enforced and must be recreated.\\n    5.    Caution Advised: Given the potential performance impacts and experimental status, use foreign keys cautiously in TiDB.\\nIn conclusion, while supported, foreign keys in TiDB are still experimental and may have significant performance implications.\\n', 'sample': SQLSample(no_reasonable_example=False, steps=[Step(explanation=\"Create a 'users' table which will be referenced by the 'orders' table via a foreign key.\", sql='CREATE TABLE IF NOT EXISTS sample_db.users (user_id INT PRIMARY KEY, name VARCHAR(255));'), Step(explanation=\"Create an 'orders' table with a FOREIGN KEY referencing the 'user_id' column in the 'users' table. Ensure the foreign key constraint is specified in the table creation statement.\", sql='CREATE TABLE IF NOT EXISTS sample_db.orders (order_id INT PRIMARY KEY, order_date DATE NOT NULL, user_id INT, FOREIGN KEY (user_id) REFERENCES sample_db.users(user_id));'), Step(explanation=\"Insert sample data into the 'users' table.\", sql=\"INSERT INTO sample_db.users (user_id, name) VALUES (1, 'Alice'), (2, 'Bob');\"), Step(explanation=\"Insert sample data into the 'orders' table, ensuring the 'user_id' values correspond to existing 'user_id' values in the 'users' table.\", sql=\"INSERT INTO sample_db.orders (order_id, order_date, user_id) VALUES (101, '2022-01-01', 1), (102, '2022-01-02', 2);\"), Step(explanation=\"Attempt to insert a record into the 'orders' table with a 'user_id' value that does not exist in the 'users' table. This should trigger a foreign key constraint violation.\", sql=\"INSERT INTO sample_db.orders (order_id, order_date, user_id) VALUES (103, '2022-01-03', 3);\"), Step(explanation='View the error message that indicates the foreign key constraint violation.', sql='SHOW WARNINGS;'), Step(explanation=\"Drop the 'orders' table to remove the foreign key constraint.\", sql='DROP TABLE IF EXISTS sample_db.orders;'), Step(explanation=\"Drop the 'users' table to clean up the example.\", sql='DROP TABLE IF EXISTS sample_db.users;')])}) (input_keys=None),\n",
       " Example({'QA_content': 'User question: How to implement rolling upgrade in TiDB?\\nAnswer: 1.    Preparation:\\n  - Verify no ongoing DDL operations and ensure the cluster meets the minimum topology requirements.\\n  - Stop the Drainer service if using TiDB Binlog.\\n2.    Use TiUP for Upgrade:\\n  - Run tiup cluster upgrade <cluster-name> <version>, following the upgrade order: PD, TiProxy (if applicable), TiFlash, TiKV, TiDB, and TiCDC.\\n3.    Upgrade Process:\\n  - TiUP upgrades nodes one by one, handling leader transfers automatically to minimize impact.\\n  - If any issues are detected, the process halts for manual intervention.\\n...\\n', 'sample': SQLSample(no_reasonable_example=True, steps=[])}) (input_keys=None)]"
      ]
     },
     "execution_count": 5,
     "metadata": {},
     "output_type": "execute_result"
    }
   ],
   "source": [
    "import json\n",
    "dataset = []\n",
    "for _, row in samples.iterrows():\n",
    "    qa = row['QA_content']\n",
    "    no_reasonable_example = row['no_reasonable_example']\n",
    "    steps = [Step(explanation=step[\"explanation\"], sql=step[\"sql\"]) for step in json.loads(row['steps'])]\n",
    "\n",
    "    sample = SQLSample(no_reasonable_example=no_reasonable_example, steps=steps)\n",
    "    dataset.append(\n",
    "        dspy.Example(\n",
    "            QA_content=qa,\n",
    "            sample=sample\n",
    "        )\n",
    "    )\n",
    "\n",
    "dataset"
   ]
  },
  {
   "cell_type": "code",
   "execution_count": 6,
   "metadata": {},
   "outputs": [
    {
     "data": {
      "text/plain": [
       "2"
      ]
     },
     "execution_count": 6,
     "metadata": {},
     "output_type": "execute_result"
    }
   ],
   "source": [
    "trainset = [x.with_inputs('QA_content') for x in dataset]\n",
    "len(trainset)"
   ]
  },
  {
   "cell_type": "code",
   "execution_count": 7,
   "metadata": {},
   "outputs": [
    {
     "name": "stderr",
     "output_type": "stream",
     "text": [
      "100%|██████████| 2/2 [00:00<00:00, 99.83it/s]"
     ]
    },
    {
     "name": "stdout",
     "output_type": "stream",
     "text": [
      "score: 0.7\n",
      "score: 1.0\n",
      "Bootstrapped 1 full traces after 2 examples in round 0.\n"
     ]
    },
    {
     "name": "stderr",
     "output_type": "stream",
     "text": [
      "\n"
     ]
    }
   ],
   "source": [
    "from dspy.teleprompt import BootstrapFewShot\n",
    "from dspy.functional import TypedPredictor\n",
    "import traceback\n",
    "\n",
    "class AssessmentReuslt(BaseModel):\n",
    "    \"\"\"The assessment result of the entities and relationships\"\"\"\n",
    "\n",
    "    score: float = Field(\n",
    "        description=\"float between 0 and 1 indicating the quality of the sql samples generated, 1 being the best, 0 being the worst\"\n",
    "    )\n",
    "   \n",
    "class SQLSampleAssess(dspy.Signature):\n",
    "    \"\"\"\n",
    "    Assess the quality of the SQL samples generated by the model.\n",
    "    You need to consider the following factors:\n",
    "    1. Completeness: Ensure that the steps cover all necessary actions to execute the SQL query.\n",
    "    2. Correctness: Verify that the SQL commands are accurate and error-free.\n",
    "    3. Clarity: Evaluate the clarity of the explanations and SQL commands provided.\n",
    "    \"\"\"\n",
    "\n",
    "    assessed_samples: SQLSample = dspy.InputField(desc=\"the assessed sql samples\")\n",
    "    gold_samples: SQLSample = dspy.InputField(desc=\"the gold sql samples\")\n",
    "    result:AssessmentReuslt = dspy.OutputField(desc=\"the assessment result\")\n",
    "\n",
    "def assessment_metric(gold, pred, trace=None):\n",
    "    with dspy.context(lm=turbo):\n",
    "        try:\n",
    "            score = TypedPredictor(SQLSampleAssess)(\n",
    "                assessed_samples=pred.sample,\n",
    "                gold_samples=gold.sample,\n",
    "                config={\n",
    "                    \"response_format\":{ \"type\": \"json_object\" },\n",
    "                }\n",
    "            )\n",
    "        except Exception as e:\n",
    "            print(f\"Error: {e}\")\n",
    "            traceback.print_exc()\n",
    "            return False\n",
    "        \n",
    "    print(f\"score: {score.result.score}\")\n",
    "\n",
    "    if trace is None: # if we're doing evaluation or optimization\n",
    "        #return relationship_score.result.score >= 0.85\n",
    "        pass\n",
    "\n",
    "    return score.result.score >= 0.85\n",
    "\n",
    "\n",
    "teleprompter = BootstrapFewShot(metric=assessment_metric)\n",
    "\n",
    "# Compile!\n",
    "compiled_program = teleprompter.compile(SQLGenModule(turbo), trainset=trainset)"
   ]
  },
  {
   "cell_type": "code",
   "execution_count": 8,
   "metadata": {},
   "outputs": [
    {
     "name": "stdout",
     "output_type": "stream",
     "text": [
      "[('prog.predictor', Predict(SampleGen(QA_content -> sample\n",
      "    instructions=\"You are a technical assistant at TiDB, dedicated to providing users with precise and actionable guidance. \\nYour mission is to ensure that users receive not only accurate answers but also valuable learning opportunities through practical, step-by-step examples. \\nTo achieve this, adhere to the following instructions:\\n\\n1. Understand the User's question and answer: Carefully review the user's question and answer provided. Ensure you fully grasp the technical context, the core issue, and any relevant background information.\\n2. Determine the Feasibility of Providing a Complete Example:\\n    - Evaluate whether a step-by-step example can be provided to help the user better understand the topic at hand. Consider the technical details involved, \\n    and ensure that any example you provide is fully executable without requiring additional adjustments.\\n    - Ensure the example is comprehensive, and is designed to be directly usable in TiDB Serverless.\\n3. Generate and Present a Complete Example:\\n    - Create a clear, detailed SQLs guide that the user can follow step-by-step. This example should include all necessary SQL commands and should be self-contained without requiring additional adjustments.\\n    - **Each step should include a single SQL Query (only SQL are allowed)**. he example should be self-contained, requiring no additional adjustments or assumptions from the user. \\n    Avoid combining multiple SQL commands within a single step to maintain clarity and prevent confusion.\\n\\n\\nBy following these instructions, you will help the user not only resolve their current query but also deepen their understanding of the topic through practical application.\"\n",
      "    QA_content = Field(annotation=str required=True json_schema_extra={'desc': \"The user's query that requires a step-by-step example to be generated.\", '__dspy_field_type': 'input', 'prefix': 'QA Content:'})\n",
      "    sample = Field(annotation=SQLSample required=True json_schema_extra={'desc': 'Step-by-step example to execute the SQL query in TiDB Serverless.', '__dspy_field_type': 'output', 'prefix': 'Sample:'})\n",
      ")))]\n"
     ]
    }
   ],
   "source": [
    "compiled_program.save(\"./sql_sample_gen_program\")"
   ]
  },
  {
   "cell_type": "code",
   "execution_count": null,
   "metadata": {},
   "outputs": [],
   "source": [
    "from app.utils.sql_sample_gen import SQlGenerator\n",
    "\n",
    "generator = SQlGenerator(turbo)"
   ]
  }
 ],
 "metadata": {
  "kernelspec": {
   "display_name": "ad",
   "language": "python",
   "name": "python3"
  },
  "language_info": {
   "codemirror_mode": {
    "name": "ipython",
    "version": 3
   },
   "file_extension": ".py",
   "mimetype": "text/x-python",
   "name": "python",
   "nbconvert_exporter": "python",
   "pygments_lexer": "ipython3",
   "version": "3.11.9"
  }
 },
 "nbformat": 4,
 "nbformat_minor": 2
}
